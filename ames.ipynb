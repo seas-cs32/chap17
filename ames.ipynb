{
  "cells": [
    {
      "cell_type": "markdown",
      "metadata": {},
      "source": [
        "### chap17/ames.ipynb\n",
        "\n",
        "This interactive Python notebook creates a ML model based on the `DecisionTreeRegressor` from scikit-learn.\n",
        "\n",
        "**CONFIGURATION NOTE:** The first two code blocks are used to distribute the Ames-Iowa-Housing data set to the students in CS32 at Harvard University. If you're not in that class, don't run these two code blocks. In all cases, you should set the location of the data set by changing the value of `csv_file` in the third code block."
      ]
    },
    {
      "cell_type": "code",
      "execution_count": null,
      "metadata": {
        "id": "CkgkoLyowebV"
      },
      "outputs": [],
      "source": [
        "# For CS32 students only; mount your Harvard Google Drive\n",
        "from google.colab import drive\n",
        "drive.mount('/content/drive')"
      ]
    },
    {
      "cell_type": "code",
      "execution_count": null,
      "metadata": {
        "id": "ZqhyZSKM1jMG"
      },
      "outputs": [],
      "source": [
        "# For CS32 students only; copy the datafiles\n",
        "!mkdir AmesIowaHousingData\n",
        "!cp drive/MyDrive/cs32-public/chap17/AmesIowaHousingData/AmesHousing.csv ./AmesIowaHousingData"
      ]
    },
    {
      "cell_type": "code",
      "execution_count": 1,
      "metadata": {
        "id": "CyyVFDoLZsjx"
      },
      "outputs": [],
      "source": [
        "# Specify the input CSV file for building and testing the model\n",
        "csv_file = 'AmesIowaHousingData/AmesHousing.csv'"
      ]
    },
    {
      "cell_type": "markdown",
      "metadata": {
        "id": "BKBLdqvAZsjy"
      },
      "source": [
        "### Getting a feel for the data\n",
        "\n",
        "Before we begin to build our machine learning model, let's practice using a few of the important `DataFrame` functions and methods."
      ]
    },
    {
      "cell_type": "code",
      "execution_count": 2,
      "metadata": {
        "id": "fTlHldHSZsjy"
      },
      "outputs": [],
      "source": [
        "import pandas as pd"
      ]
    },
    {
      "cell_type": "code",
      "execution_count": null,
      "metadata": {
        "id": "Td-lstL6Zsjy"
      },
      "outputs": [],
      "source": [
        "# Read the CSV data into a DataFrame\n",
        "df = pd.read_csv(csv_file)\n",
        "\n",
        "# Print a summary of the data\n",
        "df.describe()"
      ]
    },
    {
      "cell_type": "markdown",
      "metadata": {
        "id": "dch7BVWPZsjy"
      },
      "source": [
        "If you want to see more of the columns, you can play with the `pandas` display option for maximum columns displayed. 20 is the default."
      ]
    },
    {
      "cell_type": "code",
      "execution_count": 4,
      "metadata": {
        "id": "GxyKXsREZsjy"
      },
      "outputs": [],
      "source": [
        "pd.options.display.max_columns = 20"
      ]
    },
    {
      "cell_type": "code",
      "execution_count": null,
      "metadata": {
        "id": "qAhx09_TZsjy"
      },
      "outputs": [],
      "source": [
        "# Review only the statistics for number of bedrooms\n",
        "df.describe()['Bedroom AbvGr']"
      ]
    },
    {
      "cell_type": "markdown",
      "metadata": {
        "id": "FZtJU_pIZsjy"
      },
      "source": [
        "### Set the prediction target"
      ]
    },
    {
      "cell_type": "code",
      "execution_count": null,
      "metadata": {
        "id": "VoYcM0OEZsjy"
      },
      "outputs": [],
      "source": [
        "# Setting the prediction target\n",
        "# y = df['SalePrice']\n",
        "y = df.SalePrice\n",
        "y"
      ]
    },
    {
      "cell_type": "markdown",
      "metadata": {
        "id": "38HqBsagZsjz"
      },
      "source": [
        "### Pick some features"
      ]
    },
    {
      "cell_type": "code",
      "execution_count": null,
      "metadata": {
        "id": "Sd16Qr2SZsjz"
      },
      "outputs": [],
      "source": [
        "df.columns"
      ]
    },
    {
      "cell_type": "code",
      "execution_count": null,
      "metadata": {
        "id": "NevQYPNhZsjz"
      },
      "outputs": [],
      "source": [
        "# The model's input features\n",
        "feature_names = [\"Lot Area\", \"Year Built\", \"1st Flr SF\", \"2nd Flr SF\", \"Full Bath\", \"Bedroom AbvGr\", \"TotRms AbvGrd\"]\n",
        "X = df[feature_names]\n",
        "X.describe()\n"
      ]
    },
    {
      "cell_type": "code",
      "execution_count": null,
      "metadata": {
        "id": "0X9Z55b5Zsjz"
      },
      "outputs": [],
      "source": [
        "X.head()"
      ]
    },
    {
      "cell_type": "markdown",
      "metadata": {
        "id": "D9xz-tfGZsjz"
      },
      "source": [
        "### Fit the model to our data"
      ]
    },
    {
      "cell_type": "code",
      "execution_count": null,
      "metadata": {
        "id": "xaXC2wkxZsjz"
      },
      "outputs": [],
      "source": [
        "from sklearn.tree import DecisionTreeRegressor\n",
        "\n",
        "# Create an untrained model\n",
        "my_model = DecisionTreeRegressor(random_state=42)\n",
        "\n",
        "# Fit the model to the specified portion of the training data\n",
        "my_model.fit(X, y)"
      ]
    },
    {
      "cell_type": "markdown",
      "metadata": {
        "id": "RKhkjH8KZsjz"
      },
      "source": [
        "### Predicting unseen data"
      ]
    },
    {
      "cell_type": "code",
      "execution_count": null,
      "metadata": {
        "id": "S2D5vVdyZsjz"
      },
      "outputs": [],
      "source": [
        "from sklearn.model_selection import train_test_split\n",
        "\n",
        "# Split features and target data into training and validation sets\n",
        "train_X, test_X, train_y, test_y = train_test_split(X, y, random_state=42)\n",
        "\n",
        "# Fit the model using the training data\n",
        "my_model = DecisionTreeRegressor(random_state=42)\n",
        "my_model.fit(train_X, train_y)\n",
        "\n",
        "# Feed the model the test data and capture the resulting predictions\n",
        "predictions = my_model.predict(test_X)\n",
        "\n",
        "# Compare first 5 predictions against actual sale prices\n",
        "actuals = test_y.to_list()\n",
        "for i in range(5):\n",
        "    p = int(predictions[i])\n",
        "    a = actuals[i]\n",
        "    d = p - a\n",
        "    print(f'prediction = ${p}; actual = ${a}; diff = ${d:>6}')"
      ]
    },
    {
      "cell_type": "markdown",
      "metadata": {
        "id": "DirTM7ppZsjz"
      },
      "source": [
        "### Model validation"
      ]
    },
    {
      "cell_type": "code",
      "execution_count": null,
      "metadata": {
        "id": "5lj0zYLyZsjz"
      },
      "outputs": [],
      "source": [
        "from sklearn.metrics import mean_absolute_error\n",
        "\n",
        "test_mae = mean_absolute_error(test_y, predictions)\n",
        "print(f'MAE = ${int(test_mae)}')\n",
        "\n",
        "# Compare the MAE against the average home price\n",
        "test_mean = test_y.describe()['mean']\n",
        "print(f'Mean price = ${int(test_mean)}')\n",
        "print(f'Percentage of price = {int(100 * test_mae / test_mean)}%')"
      ]
    },
    {
      "cell_type": "markdown",
      "metadata": {
        "id": "rQ9seYfCZsjz"
      },
      "source": [
        "### Making the fit just right"
      ]
    },
    {
      "cell_type": "code",
      "execution_count": null,
      "metadata": {
        "id": "7HW2yHQXZsj0"
      },
      "outputs": [],
      "source": [
        "# Find the best model by varying the size of the decision tree\n",
        "best_num_leaves = 0\n",
        "lowest_mae = 9999999.9\n",
        "\n",
        "# Run the experiment\n",
        "print('Leaves\\tMAE')\n",
        "for leaves in [4, 16, 64, 128, 1024, 16384, 131072]:\n",
        "    my_model = DecisionTreeRegressor(max_leaf_nodes=leaves, random_state=42)\n",
        "    my_model.fit(train_X, train_y)\n",
        "    predictions = my_model.predict(test_X)\n",
        "    test_mae = mean_absolute_error(test_y, predictions)\n",
        "    print(f'{leaves}\\t${int(test_mae)}')\n",
        "\n",
        "    if test_mae < lowest_mae:\n",
        "        # Update best\n",
        "        best_num_leaves = leaves\n",
        "        lowest_mae = test_mae\n",
        "\n",
        "# Report best\n",
        "print(f'\\nBEST model uses {best_num_leaves} leaves')"
      ]
    },
    {
      "cell_type": "markdown",
      "metadata": {
        "id": "eoPwCaavZsj0"
      },
      "source": [
        "### Try a different regressor"
      ]
    },
    {
      "cell_type": "code",
      "execution_count": null,
      "metadata": {
        "id": "X_ZnFfVmZsj0"
      },
      "outputs": [],
      "source": [
        "from sklearn.ensemble import RandomForestRegressor\n",
        "\n",
        "# Will a different regressor produce an even better model?\n",
        "another_model = RandomForestRegressor(random_state=42)\n",
        "another_model.fit(train_X, train_y)\n",
        "predictions2 = another_model.predict(test_X)\n",
        "\n",
        "test_mae2 = mean_absolute_error(test_y, predictions2)\n",
        "print(f'MAE (Random Forest) = ${int(test_mae2)}')\n",
        "\n",
        "# Compare the MAE against the average home price\n",
        "print(f'Mean price = ${int(test_mean)}')\n",
        "print(f'Percentage of price = {int(100 * test_mae2 / test_mean)}%')"
      ]
    }
  ],
  "metadata": {
    "colab": {
      "provenance": []
    },
    "kernelspec": {
      "display_name": "Python 3",
      "language": "python",
      "name": "python3"
    },
    "language_info": {
      "codemirror_mode": {
        "name": "ipython",
        "version": 3
      },
      "file_extension": ".py",
      "mimetype": "text/x-python",
      "name": "python",
      "nbconvert_exporter": "python",
      "pygments_lexer": "ipython3",
      "version": "3.9.6"
    }
  },
  "nbformat": 4,
  "nbformat_minor": 0
}
